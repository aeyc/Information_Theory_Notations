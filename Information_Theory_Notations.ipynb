{
  "nbformat": 4,
  "nbformat_minor": 0,
  "metadata": {
    "colab": {
      "name": "Information_Theory_Notations.ipynb",
      "provenance": [],
      "collapsed_sections": []
    },
    "kernelspec": {
      "name": "python3",
      "display_name": "Python 3"
    },
    "language_info": {
      "name": "python"
    }
  },
  "cells": [
    {
      "cell_type": "markdown",
      "metadata": {
        "id": "NCUvZq049xG9"
      },
      "source": [
        "# Information"
      ]
    },
    {
      "cell_type": "code",
      "metadata": {
        "id": "oywLOdEkjcKl"
      },
      "source": [
        "#Information of an event A where P[A]>0\n",
        "#Information function i_x(x) of a random variable x, \n",
        "#will be calculated with same function where p represents the probability mass distribution of the rv x\n",
        "import math\n",
        "def getInformation(p):\n",
        "  if p>0:\n",
        "    return math.log2(1/p)\n",
        "  if p ==1:\n",
        "    return 0\n",
        "  return float('inf')"
      ],
      "execution_count": 35,
      "outputs": []
    },
    {
      "cell_type": "markdown",
      "metadata": {
        "id": "JY7i4xc090Ar"
      },
      "source": [
        "# Entropy"
      ]
    },
    {
      "cell_type": "code",
      "metadata": {
        "id": "1B3WucI8sdKH"
      },
      "source": [
        "#Entropy, expectation of the information function\n",
        "#param l represents the list of the probabilities of each states\n",
        "def getEntropy(l):\n",
        "  h = 0\n",
        "  for i in range(len(l)):\n",
        "    if (getInformation(l[i])) != float('inf'): #0*inf = nan in Python, unfortunately\n",
        "      h += l[i]*getInformation(l[i])\n",
        "  return h\n"
      ],
      "execution_count": 36,
      "outputs": []
    },
    {
      "cell_type": "markdown",
      "metadata": {
        "id": "abg0vTv8-Seo"
      },
      "source": [
        "# Nominal Information"
      ]
    },
    {
      "cell_type": "code",
      "metadata": {
        "id": "mkdW0UfF-U3x"
      },
      "source": [
        "def getNominalInformation(l):\n",
        "  return [getEntropy(l)/(math.log2(len(l))), (1-getEntropy(l)/(math.log2(len(l))))] #returns nominal information(efficiency) and redundancy"
      ],
      "execution_count": 37,
      "outputs": []
    },
    {
      "cell_type": "markdown",
      "metadata": {
        "id": "gJGXXVwZ52Hy"
      },
      "source": [
        "# Expected Value"
      ]
    },
    {
      "cell_type": "code",
      "metadata": {
        "id": "o1tlWy0U53_p"
      },
      "source": [
        "def getExpectedValue(l):\n",
        "  expected_value = 0\n",
        "  for i in range(len(l)):\n",
        "    expected_value += l[i]*i\n",
        "  return expected_value"
      ],
      "execution_count": 71,
      "outputs": []
    },
    {
      "cell_type": "markdown",
      "metadata": {
        "id": "W8h1JyNe979s"
      },
      "source": [
        "## Example of Entropy Calculation with Equal Probabilites"
      ]
    },
    {
      "cell_type": "markdown",
      "metadata": {
        "id": "SN9-PDnGtwpL"
      },
      "source": [
        "As an example, if we have a dice, our sample space is S = {1,2,3,4,5,6} where the result of rolling a dice can be. Each state has equal probabilities = 1/6. In that case, our l = { 1/6, 1/6, 1/6, 1/6, 1/6, 1/6}\n"
      ]
    },
    {
      "cell_type": "code",
      "metadata": {
        "colab": {
          "base_uri": "https://localhost:8080/"
        },
        "id": "tTJ1wHhWuHC4",
        "outputId": "4476c99f-e2c3-4b80-c3c4-9fb41fdab1dc"
      },
      "source": [
        "dice_example = [1/6, 1/6, 1/6, 1/6, 1/6, 1/6]\n",
        "getEntropy(dice_example)"
      ],
      "execution_count": 38,
      "outputs": [
        {
          "output_type": "execute_result",
          "data": {
            "text/plain": [
              "2.584962500721156"
            ]
          },
          "metadata": {
            "tags": []
          },
          "execution_count": 38
        }
      ]
    },
    {
      "cell_type": "markdown",
      "metadata": {
        "id": "s3y2TkrF-kvI"
      },
      "source": [
        "Proposition (upper bound)\n",
        "Let x be a rv with a finite alphabet of M values\n",
        "1. If all a ∈ Ax are equally likely with probability px(a) = 1/M, then H(x) = log2 M.\n",
        "2. Otherwise, H(x) < log2 M.\n",
        "\n"
      ]
    },
    {
      "cell_type": "code",
      "metadata": {
        "colab": {
          "base_uri": "https://localhost:8080/"
        },
        "id": "xW1X6gIc-Vls",
        "outputId": "87698bdb-8ea6-426e-892d-84d95007a7e1"
      },
      "source": [
        "#Entropy upper bound for the events with same probabilities\n",
        "math.log2(6) == getEntropy(dice_example)"
      ],
      "execution_count": 39,
      "outputs": [
        {
          "output_type": "execute_result",
          "data": {
            "text/plain": [
              "True"
            ]
          },
          "metadata": {
            "tags": []
          },
          "execution_count": 39
        }
      ]
    },
    {
      "cell_type": "markdown",
      "metadata": {
        "id": "SHYtVi3g57q2"
      },
      "source": [
        "## Entropy calculation binary example"
      ]
    },
    {
      "cell_type": "code",
      "metadata": {
        "colab": {
          "base_uri": "https://localhost:8080/",
          "height": 312
        },
        "id": "RZAtGg1V11Qb",
        "outputId": "f24c36bb-1303-43b9-b99b-d6845159aa12"
      },
      "source": [
        "import numpy as np\n",
        "from matplotlib import pyplot as plt\n",
        "prob_values = np.linspace(0,1,100) #sampling 100 values in range [0.01,0.99] since entropy of an event which has P(event)=0 or P(event)=1 ~0 since the event is not informative\n",
        "prob_list = []\n",
        "for i in range(len(prob_values)):\n",
        "  prob_list.append([prob_values[i], 1-prob_values[i]])\n",
        "  \n",
        "h_values_toPlot = []\n",
        "\n",
        "for i in range(len(prob_list)):\n",
        "  h_values_toPlot.append(getEntropy(prob_list[i]))\n",
        "  #print(i, getEntropy(prob_list[i]))\n",
        "\n",
        "plt.plot(h_values_toPlot)\n",
        "plt.xlabel(\"Probability\")\n",
        "plt.ylabel(\"H(x)[Bit]\")\n",
        "plt.title(\"Entropy vs Probability of an event\")\n"
      ],
      "execution_count": 40,
      "outputs": [
        {
          "output_type": "execute_result",
          "data": {
            "text/plain": [
              "Text(0.5, 1.0, 'Entropy vs Probability of an event')"
            ]
          },
          "metadata": {
            "tags": []
          },
          "execution_count": 40
        },
        {
          "output_type": "display_data",
          "data": {
            "image/png": "[encoded data removed]",
            "text/plain": [
              "<Figure size 432x288 with 1 Axes>"
            ]
          },
          "metadata": {
            "tags": [],
            "needs_background": "light"
          }
        }
      ]
    },
    {
      "cell_type": "markdown",
      "metadata": {
        "id": "YUzCzbit5LE_"
      },
      "source": [
        "Assuming a random variable x, has probability distiribution over N values, a represents the list of probabilities of each x =  \tα.\n",
        "\n"
      ]
    },
    {
      "cell_type": "code",
      "metadata": {
        "colab": {
          "base_uri": "https://localhost:8080/"
        },
        "id": "84hsw6TJ_NjW",
        "outputId": "bfe3ed4c-f7a9-4c5e-e7b3-2f28cc2d4032"
      },
      "source": [
        "import random\n",
        "\n",
        "length = 1000\n",
        "a = np.random.random(length)  \n",
        "a = a/np.sum(a, axis=0) * 1  # force them to sum to totals\n",
        "print(sum(a))\n",
        "print(a.shape)\n",
        "\n",
        "if (sum(a)> 1):\n",
        "  max_elmnt_index = np.argmax(a)\n",
        "  print(max(a), a[max_elmnt_index]) #debug\n",
        "  a[max_elmnt_index] = a[max_elmnt_index] - (sum(a)-1)\n",
        "  print(\"Fixed sum:\",sum(a))\n",
        "elif (sum(a)< 1):\n",
        "  min_elmnt_index = np.argmin(a)\n",
        "  print(min(a), a[min_elmnt_index]) #debug\n",
        "  a[min_elmnt_index] = a[min_elmnt_index] + (1-sum(a))\n",
        "  print(\"Fixed sum:\",sum(a))"
      ],
      "execution_count": 41,
      "outputs": [
        {
          "output_type": "stream",
          "text": [
            "0.9999999999999989\n",
            "(1000,)\n",
            "6.05949120209384e-06 6.05949120209384e-06\n",
            "Fixed sum: 1.0\n"
          ],
          "name": "stdout"
        }
      ]
    },
    {
      "cell_type": "code",
      "metadata": {
        "colab": {
          "base_uri": "https://localhost:8080/"
        },
        "id": "vW1ipSnCBNqY",
        "outputId": "63bc8097-6238-4546-b3c8-613af95e3ffa"
      },
      "source": [
        "print(type(a))\n",
        "print(a.shape)"
      ],
      "execution_count": 42,
      "outputs": [
        {
          "output_type": "stream",
          "text": [
            "<class 'numpy.ndarray'>\n",
            "(1000,)\n"
          ],
          "name": "stdout"
        }
      ]
    },
    {
      "cell_type": "code",
      "metadata": {
        "colab": {
          "base_uri": "https://localhost:8080/"
        },
        "id": "ouJtQAWz-0kd",
        "outputId": "334ef28d-c493-4b6c-9a93-8859e8dd4299"
      },
      "source": [
        "nominal_inf,redundancy = getNominalInformation(a)\n",
        "print(\"Efficiency of set a\",nominal_inf )\n",
        "print(\"Redundancy of set a\",redundancy )"
      ],
      "execution_count": 43,
      "outputs": [
        {
          "output_type": "stream",
          "text": [
            "Efficiency of set a 0.9745584609459762\n",
            "Redundancy of set a 0.0254415390540238\n"
          ],
          "name": "stdout"
        }
      ]
    },
    {
      "cell_type": "markdown",
      "metadata": {
        "id": "YBUHA3dGBNE_"
      },
      "source": [
        "# Guessing Entropy"
      ]
    },
    {
      "cell_type": "code",
      "metadata": {
        "id": "2VkctQSr_oBb"
      },
      "source": [
        "from math import log2\n",
        "def getGuessingEntropy(l):\n",
        "  inf_list = []\n",
        "  for i in range(len(l)):\n",
        "    inf_list.append(getInformation(l[i]))\n",
        "  h_min = min(inf_list)\n",
        "\n",
        "  log_max = math.log2(1/max(l))\n",
        "\n",
        "  print(\"Minimum of its information function = \", h_min)\n",
        "  print(\"Log of the probability of its most likely value = \", log_max)\n",
        "  print(\"h_min == log_max:\", (h_min == log_max))\n",
        "  return h_min"
      ],
      "execution_count": 53,
      "outputs": []
    },
    {
      "cell_type": "code",
      "metadata": {
        "colab": {
          "base_uri": "https://localhost:8080/"
        },
        "id": "ysQ95-aZAoOg",
        "outputId": "524616f1-47f7-4e4c-bd54-e334cdcf17fc"
      },
      "source": [
        "getGuessingEntropy(a)"
      ],
      "execution_count": 54,
      "outputs": [
        {
          "output_type": "stream",
          "text": [
            "Minimum of its information function =  9.006257397086083\n",
            "Log of the probability of its most likely value =  9.006257397086083\n",
            "h_min == log_max: True\n"
          ],
          "name": "stdout"
        },
        {
          "output_type": "execute_result",
          "data": {
            "text/plain": [
              "9.006257397086083"
            ]
          },
          "metadata": {
            "tags": []
          },
          "execution_count": 54
        }
      ]
    },
    {
      "cell_type": "markdown",
      "metadata": {
        "id": "sYVoHQjuSSd8"
      },
      "source": [
        "# Collision Entropy"
      ]
    },
    {
      "cell_type": "code",
      "metadata": {
        "id": "G-lNuutOSUUh"
      },
      "source": [
        "def getCollisionEntropy(l):\n",
        "  result = 0\n",
        "  for i in range(len(l)):\n",
        "    result+=(l[i])**2\n",
        "  return result"
      ],
      "execution_count": 46,
      "outputs": []
    },
    {
      "cell_type": "code",
      "metadata": {
        "colab": {
          "base_uri": "https://localhost:8080/"
        },
        "id": "kn6jhpxgSta8",
        "outputId": "6edf52ce-ebd9-4b3d-dca0-4ec8979908f3"
      },
      "source": [
        "getCollisionEntropy(a)"
      ],
      "execution_count": 47,
      "outputs": [
        {
          "output_type": "execute_result",
          "data": {
            "text/plain": [
              "0.0013038044685706857"
            ]
          },
          "metadata": {
            "tags": []
          },
          "execution_count": 47
        }
      ]
    },
    {
      "cell_type": "markdown",
      "metadata": {
        "id": "F22nSBDQS6GC"
      },
      "source": [
        "# Rényi Entropy"
      ]
    },
    {
      "cell_type": "code",
      "metadata": {
        "id": "xiA4tHb8TIve"
      },
      "source": [
        "def getRenyiEntropy(order,l):\n",
        "  if order == 0:\n",
        "    return math.log2(len(l))\n",
        "  if order == 1:\n",
        "    return getEntropy(l)\n",
        "  if order == 2:\n",
        "    return getCollisionEntropy(l)\n",
        "  return getGuessingEntropy(l)"
      ],
      "execution_count": 57,
      "outputs": []
    },
    {
      "cell_type": "code",
      "metadata": {
        "colab": {
          "base_uri": "https://localhost:8080/"
        },
        "id": "ythehE9ITuOI",
        "outputId": "3051c225-e10b-4d9c-8fdb-d6fd1edd953f"
      },
      "source": [
        "print(\"Heartler (or max-) Entropy\", getRenyiEntropy(0,a))\n",
        "print(\"Standard (Shannon) Entropy\", getRenyiEntropy(1,a))\n",
        "print(\"Collision Entropy\", getRenyiEntropy(2,a))\n",
        "print(\"Guessing Entropy\", getRenyiEntropy(float(\"inf\"),a))\n",
        "print(\"Upper bound ~ log_2 (M)\", log2(len(a)))"
      ],
      "execution_count": 58,
      "outputs": [
        {
          "output_type": "stream",
          "text": [
            "Heartler (or max-) Entropy 9.965784284662087\n",
            "Standard (Shannon) Entropy 9.71223939457988\n",
            "Collision Entropy 0.0013038044685706857\n",
            "Minimum of its information function =  9.006257397086083\n",
            "Log of the probability of its most likely value =  9.006257397086083\n",
            "h_min == log_max: True\n",
            "Guessing Entropy 9.006257397086083\n",
            "Upper bound ~ log_2 (M) 9.965784284662087\n"
          ],
          "name": "stdout"
        }
      ]
    },
    {
      "cell_type": "markdown",
      "metadata": {
        "id": "b286-ogSVWCW"
      },
      "source": [
        "# Joint Probability "
      ]
    },
    {
      "cell_type": "code",
      "metadata": {
        "id": "-LaAX8zd6pFr"
      },
      "source": [
        "#Joint probability of independent events\n",
        "def getJointProbability(alpha,beta):\n",
        "  return alpha*beta"
      ],
      "execution_count": 90,
      "outputs": []
    },
    {
      "cell_type": "markdown",
      "metadata": {
        "id": "Xwh2O_eGVbmT"
      },
      "source": [
        "Let x and y are two i.i.d random variables "
      ]
    },
    {
      "cell_type": "code",
      "metadata": {
        "id": "MGEiZizXVYlC"
      },
      "source": [
        "import pandas as pd\n",
        "import seaborn as sns"
      ],
      "execution_count": 59,
      "outputs": []
    },
    {
      "cell_type": "code",
      "metadata": {
        "id": "u2ny1q1raDdw"
      },
      "source": [
        "#Given the length of a space, this function creates random probability distributions\n",
        "def createPMD(length):\n",
        "  a = np.random.random(length)  \n",
        "  a = a/np.sum(a, axis=0) * 1  # force them to sum to totals\n",
        "  if (sum(a)> 1):\n",
        "    max_elmnt_index = np.argmax(a)\n",
        "    print(max(a), a[max_elmnt_index]) #debug\n",
        "    a[max_elmnt_index] = a[max_elmnt_index] - (sum(a)-1)\n",
        "  elif (sum(a)< 1):\n",
        "    min_elmnt_index = np.argmin(a)\n",
        "    print(min(a), a[min_elmnt_index]) #debug\n",
        "    a[min_elmnt_index] = a[min_elmnt_index] + (1-sum(a))\n",
        "  return a"
      ],
      "execution_count": 60,
      "outputs": []
    },
    {
      "cell_type": "code",
      "metadata": {
        "id": "AD5l4q--Vv3w",
        "colab": {
          "base_uri": "https://localhost:8080/"
        },
        "outputId": "f421e8af-7316-4953-b581-e25d0f9d00e1"
      },
      "source": [
        "n = 1000\n",
        "x = createPMD(n)\n",
        "y = createPMD(n)\n"
      ],
      "execution_count": 72,
      "outputs": [
        {
          "output_type": "stream",
          "text": [
            "1.8751588689377325e-06 1.8751588689377325e-06\n",
            "0.002060451157148672 0.002060451157148672\n"
          ],
          "name": "stdout"
        }
      ]
    },
    {
      "cell_type": "code",
      "metadata": {
        "colab": {
          "base_uri": "https://localhost:8080/",
          "height": 296
        },
        "id": "riDPEB155WKQ",
        "outputId": "3d49313b-7845-4779-cbfd-c232139e10f9"
      },
      "source": [
        "plt.plot([i for i in range(n)],x,'o')\n",
        "plt.xlabel(\"Values(α_x) that x can take\")\n",
        "plt.ylabel(\"P[x=α]\")\n",
        "plt.title(\"Probability distribution of x\")\n",
        "plt.show()"
      ],
      "execution_count": 73,
      "outputs": [
        {
          "output_type": "display_data",
          "data": {
            "image/png": "[encoded data removed]",
            "text/plain": [
              "<Figure size 432x288 with 1 Axes>"
            ]
          },
          "metadata": {
            "tags": [],
            "needs_background": "light"
          }
        }
      ]
    },
    {
      "cell_type": "code",
      "metadata": {
        "id": "qbJaBJnq2DEP",
        "colab": {
          "base_uri": "https://localhost:8080/",
          "height": 296
        },
        "outputId": "0c81c502-be13-474e-91e7-c54363bb6955"
      },
      "source": [
        "plt.plot([i for i in range(n)],y,'ro')\n",
        "plt.xlabel(\"Values(α_y) that y can take\")\n",
        "plt.ylabel(\"P[y=α]\")\n",
        "plt.title(\"Probability distribution of y\")\n",
        "plt.show()"
      ],
      "execution_count": 76,
      "outputs": [
        {
          "output_type": "display_data",
          "data": {
            "image/png": "[encoded data removed]",
            "text/plain": [
              "<Figure size 432x288 with 1 Axes>"
            ]
          },
          "metadata": {
            "tags": [],
            "needs_background": "light"
          }
        }
      ]
    },
    {
      "cell_type": "markdown",
      "metadata": {
        "id": "bVREpZngC1XA"
      },
      "source": [
        "## Marginal Distribution"
      ]
    },
    {
      "cell_type": "code",
      "metadata": {
        "id": "T7ykRXmjC3ae"
      },
      "source": [
        "def getMarginalDistribution(alpha, l):\n",
        "  result = 0\n",
        "  for i in range(len(l)):\n",
        "    result+=getJointProbability(alpha,l[i])\n",
        "  return result"
      ],
      "execution_count": 102,
      "outputs": []
    },
    {
      "cell_type": "code",
      "metadata": {
        "colab": {
          "base_uri": "https://localhost:8080/",
          "height": 312
        },
        "id": "01G0SPzk42dQ",
        "outputId": "ddb84180-268d-4afc-8b18-c5e8ccb362f8"
      },
      "source": [
        "x_index = random.randint(0,n)\n",
        "joint_prob = []\n",
        "for i in range(len(y)):\n",
        "  joint_prob.append(getJointProbability(x[x_index],y[i]))\n",
        "plt.plot(joint_prob,\"go\")\n",
        "plt.xlabel(\"α\")\n",
        "plt.ylabel(\"Joint Probability P[x = {}, y = α]\".format(x_index))\n",
        "plt.title(\"Marginal Distribution of y when x = {}\".format(x_index))\n",
        "plt.show()\n",
        "\n",
        "print(\"Marginal Distribution\",getMarginalDistribution(x[x_index],y))"
      ],
      "execution_count": 103,
      "outputs": [
        {
          "output_type": "display_data",
          "data": {
            "image/png": "[encoded data removed]",
            "text/plain": [
              "<Figure size 432x288 with 1 Axes>"
            ]
          },
          "metadata": {
            "tags": [],
            "needs_background": "light"
          }
        },
        {
          "output_type": "stream",
          "text": [
            "Marginal Distribution 0.0014154217561433767\n"
          ],
          "name": "stdout"
        }
      ]
    },
    {
      "cell_type": "code",
      "metadata": {
        "colab": {
          "base_uri": "https://localhost:8080/",
          "height": 312
        },
        "id": "VZ9G8ETSCiFU",
        "outputId": "51c6cfc2-cd9c-466b-eec2-55551277343c"
      },
      "source": [
        "joint_prob = []\n",
        "for i in range(len(y)):\n",
        "  joint_prob.append(getJointProbability(y[x_index],x[i]))\n",
        "plt.plot(joint_prob,\"go\")\n",
        "plt.xlabel(\"α\")\n",
        "plt.ylabel(\"Joint Probability P[y = {}, x = α]\".format(x_index))\n",
        "plt.title(\"Marginal Distribution of x when y = {}\".format(x_index))\n",
        "plt.show()\n",
        "\n",
        "print(\"Marginal Distribution\",getMarginalDistribution(y[x_index],x))"
      ],
      "execution_count": 104,
      "outputs": [
        {
          "output_type": "display_data",
          "data": {
            "image/png": "[encoded data removed]",
            "text/plain": [
              "<Figure size 432x288 with 1 Axes>"
            ]
          },
          "metadata": {
            "tags": [],
            "needs_background": "light"
          }
        },
        {
          "output_type": "stream",
          "text": [
            "Marginal Distribution 0.000889769762680946\n"
          ],
          "name": "stdout"
        }
      ]
    },
    {
      "cell_type": "markdown",
      "metadata": {
        "id": "fQciAM_r-NIL"
      },
      "source": [
        "# Conditional Probability"
      ]
    },
    {
      "cell_type": "code",
      "metadata": {
        "id": "mG1uGMmq-PKA"
      },
      "source": [
        "def getConditionalProbability(alpha,beta):\n",
        "  joint_prob = getJointProbability(alpha,beta)\n",
        "  cond_prob = joint_prob/beta\n",
        "  return cond_prob\n"
      ],
      "execution_count": 118,
      "outputs": []
    },
    {
      "cell_type": "code",
      "metadata": {
        "colab": {
          "base_uri": "https://localhost:8080/",
          "height": 294
        },
        "id": "qa8ueuMb-hp-",
        "outputId": "fa915e46-5c9f-4861-9787-a2a4e195de13"
      },
      "source": [
        "x_index = random.randint(0,n)\n",
        "conditional_prob = []\n",
        "for i in range(len(y)):\n",
        "  conditional_prob.append(getConditionalProbability(x[x_index],y[i]))\n",
        "plt.plot(joint_prob,\"go\")\n",
        "plt.xlabel(\"α\")\n",
        "plt.ylabel(\"Conditional Probability P[x = {}, y = α]\".format(x_index))\n",
        "plt.title(\"Conditional Probability\")\n",
        "plt.show()"
      ],
      "execution_count": 99,
      "outputs": [
        {
          "output_type": "display_data",
          "data": {
            "image/png": "[encoded data removed]",
            "text/plain": [
              "<Figure size 432x288 with 1 Axes>"
            ]
          },
          "metadata": {
            "tags": [],
            "needs_background": "light"
          }
        }
      ]
    },
    {
      "cell_type": "markdown",
      "metadata": {
        "id": "0_BfV9Y9I_hv"
      },
      "source": [
        "# Joint Information"
      ]
    },
    {
      "cell_type": "code",
      "metadata": {
        "id": "thVioTsjo4Yw"
      },
      "source": [
        "def getJointInformation(alpha, beta): #where alpha = px(a) and beta = px(b\n",
        "  print(getConditionalProbability(alpha,beta))\n",
        "  return log2(1/getConditionalProbability(alpha,beta)) - log2(1/beta)"
      ],
      "execution_count": 147,
      "outputs": []
    },
    {
      "cell_type": "markdown",
      "metadata": {
        "id": "SsRfR8r0Dm02"
      },
      "source": [
        "# Joint Entropy"
      ]
    },
    {
      "cell_type": "code",
      "metadata": {
        "id": "sriqNJmZDobc"
      },
      "source": [
        "def getJointEntropy(x,y):\n",
        "  result = 0\n",
        "  for i in x:\n",
        "    for j in y:\n",
        "      result+= getJointProbability(i,j) * log2(1/getJointProbability(i,j))\n",
        "  return result"
      ],
      "execution_count": 107,
      "outputs": []
    },
    {
      "cell_type": "code",
      "metadata": {
        "colab": {
          "base_uri": "https://localhost:8080/"
        },
        "id": "Fix1c_JuEGZJ",
        "outputId": "8c57d595-639a-4658-f793-406c5fd2c3b0"
      },
      "source": [
        "print(\"Entropy of x:\", getEntropy(x))\n",
        "print(\"Entropy of y:\", getEntropy(y))\n",
        "print(\"max{H(x),H(y)}\",max(getEntropy(x),getEntropy(y)) )\n",
        "print(\"Joint entropy\",getJointEntropy(x,y))\n",
        "print(\"H(x) + H(y) = \", getEntropy(x)+getEntropy(y)) \n",
        "# if x&y are statistically independent,\n",
        "# H(x,y) = H(x)+H(y)\n",
        "# Otherwise, H(x,y) < H(x) + H(y)"
      ],
      "execution_count": 112,
      "outputs": [
        {
          "output_type": "stream",
          "text": [
            "Entropy of x: 9.677365180164369\n",
            "Entropy of y: 9.673036985694896\n",
            "max{H(x),H(y)} 9.677365180164369\n",
            "Joint entropy 19.350402165860316\n",
            "H(x) + H(y) =  19.350402165859265\n"
          ],
          "name": "stdout"
        }
      ]
    },
    {
      "cell_type": "markdown",
      "metadata": {
        "id": "DVr__WZfF-Ed"
      },
      "source": [
        "# Conditional Information"
      ]
    },
    {
      "cell_type": "code",
      "metadata": {
        "id": "MJjypsPxGAsy"
      },
      "source": [
        "def getConditionalInformation(alpha,beta):\n",
        "  return log2(1/getConditionalProbability(alpha,beta))"
      ],
      "execution_count": 113,
      "outputs": []
    },
    {
      "cell_type": "markdown",
      "metadata": {
        "id": "FhMpLNveGSiC"
      },
      "source": [
        "# Conditional Entropy"
      ]
    },
    {
      "cell_type": "code",
      "metadata": {
        "id": "6A38aZkoGRyP"
      },
      "source": [
        "def getConditionalEntropy(x,y):\n",
        "  result = 0\n",
        "  for i in x:\n",
        "    for j in y:\n",
        "      result += getConditionalProbability(i,j)*log2(1/getJointProbability(i,j))\n",
        "  return result"
      ],
      "execution_count": 134,
      "outputs": []
    },
    {
      "cell_type": "code",
      "metadata": {
        "colab": {
          "base_uri": "https://localhost:8080/"
        },
        "id": "8Z6N29AYGz3j",
        "outputId": "129a257c-3e58-411c-9f60-849ed8f29a95"
      },
      "source": [
        "random_index_x = random.randint(0,n)\n",
        "random_index_y = random.randint(0,n)\n",
        "print(\"Conditional Information = {} when x = {}, and y = {}\".format(getConditionalInformation(x[random_index_x],y[random_index_y]),random_index_x,random_index_y))\n",
        "print(\"Joint distribution ix(a, b):\", getJointInformation(x[random_index_x],y[random_index_y]))\n",
        "print(\"Information of y:\", getInformation(y[random_index_y]))\n",
        "print(\"i_x|y(a|b) = i_x(a, b) − i_y(b) :\" )\n",
        "print((getJointInformation(x[random_index_x],y[random_index_y])-getInformation(y[random_index_y]))==getConditionalInformation(x[random_index_x],y[random_index_y]))"
      ],
      "execution_count": 128,
      "outputs": [
        {
          "output_type": "stream",
          "text": [
            "Conditional Information = 9.929502218981304 when x = 276, and y = 106\n",
            "Joint distribution ix(a, b): 19.33328245483505\n",
            "Information of y: 9.403780235853747\n",
            "i_x|y(a|b) = i_x(a, b) − i_y(b) :\n",
            "True\n"
          ],
          "name": "stdout"
        }
      ]
    },
    {
      "cell_type": "code",
      "metadata": {
        "colab": {
          "base_uri": "https://localhost:8080/"
        },
        "id": "WxaTqpmG6MhB",
        "outputId": "a116e313-4b60-4ccf-8101-67eb3253bf32"
      },
      "source": [
        "print(getJointInformation(1/6,1/6))\n",
        "print((1/6)/getConditionalProbability(1/6,1/6))"
      ],
      "execution_count": 148,
      "outputs": [
        {
          "output_type": "stream",
          "text": [
            "0.16666666666666666\n",
            "0.0\n",
            "1.0\n"
          ],
          "name": "stdout"
        }
      ]
    },
    {
      "cell_type": "code",
      "metadata": {
        "colab": {
          "base_uri": "https://localhost:8080/"
        },
        "id": "v_CYgML_p7L1",
        "outputId": "3941cd40-975e-40b3-bc3b-178696a1530d"
      },
      "source": [
        "print(\"Conditional Entropy:\", getConditionalEntropy(x, y))\n",
        "print(\"Joint Entropy:\", getJointEntropy(x,y))\n",
        "print(\"Entopy of x:\", getEntropy(x))\n",
        "\n",
        "print(getConditionalProbability(x[0],y[0]))\n",
        "print(log2(1/getJointProbability(x[0],y[0])))"
      ],
      "execution_count": 146,
      "outputs": [
        {
          "output_type": "stream",
          "text": [
            "Conditional Entropy: 20096.166448303407\n",
            "Joint Entropy: 19.350402165860316\n",
            "Entopy of x: 9.677365180164369\n",
            "0.0014352558348722135\n",
            "20.188416047702187\n"
          ],
          "name": "stdout"
        }
      ]
    },
    {
      "cell_type": "markdown",
      "metadata": {
        "id": "vyBuI3-k9RTJ"
      },
      "source": [
        "# Cross Entropy"
      ]
    },
    {
      "cell_type": "code",
      "metadata": {
        "id": "OlYHcpJQ9Tnc"
      },
      "source": [
        "def getCrossEntropy(x,y):\n",
        "  result = 0\n",
        "  for i in range(len(x)):\n",
        "    result+=x[i]*getInformation(y[i])\n",
        "  return result"
      ],
      "execution_count": 152,
      "outputs": []
    },
    {
      "cell_type": "markdown",
      "metadata": {
        "id": "W9Ut5T9b9qAq"
      },
      "source": [
        "Binary Example"
      ]
    },
    {
      "cell_type": "code",
      "metadata": {
        "colab": {
          "base_uri": "https://localhost:8080/"
        },
        "id": "Hl6chm9J9r2G",
        "outputId": "1ef7b0b6-0d62-4f88-a1e9-c8486fbe5c87"
      },
      "source": [
        "bx = [0.6,0.4]\n",
        "by = [0.5,0.5]\n",
        "print(getCrossEntropy(bx,by))\n",
        "#0.6*log2(1/0.5) + 0.4*log2(1/0.5)\n",
        "#print(0.6*log2(1/0.5))\n",
        "#print(0.4*log2(1/0.5))"
      ],
      "execution_count": 155,
      "outputs": [
        {
          "output_type": "stream",
          "text": [
            "1.0\n",
            "0.6\n",
            "0.4\n"
          ],
          "name": "stdout"
        }
      ]
    },
    {
      "cell_type": "markdown",
      "metadata": {
        "id": "2rN6Bnhy9RZn"
      },
      "source": [
        "# Kullback-Leibler Divergence"
      ]
    },
    {
      "cell_type": "code",
      "metadata": {
        "id": "Tngagvjr-dqX"
      },
      "source": [
        "def getKLD(x,y):\n",
        "  result = 0\n",
        "  for i in range(len(x)):\n",
        "    result+=x[i]*log2(x[i]/y[i])\n",
        "  return result"
      ],
      "execution_count": 157,
      "outputs": []
    },
    {
      "cell_type": "markdown",
      "metadata": {
        "id": "NEX9SFiP_Imn"
      },
      "source": [
        "Binary Example"
      ]
    },
    {
      "cell_type": "code",
      "metadata": {
        "colab": {
          "base_uri": "https://localhost:8080/"
        },
        "id": "uz3ExSal_V2k",
        "outputId": "61adb915-2847-4a67-95e0-780f1cc0334c"
      },
      "source": [
        "bx = [0.6,0.4]\n",
        "by = [0.5,0.5]\n",
        "print(getKLD(bx,by))\n",
        "#0.6*log2(0.6/0.5) + 0.4*log2(0.4/0.5)\n",
        "print(0.6*log2(0.6/0.5))\n",
        "print(0.4*log2(0.4/0.5))\n",
        "print(0.6*log2(0.6/0.5) + 0.4*log2(0.4/0.5))"
      ],
      "execution_count": 160,
      "outputs": [
        {
          "output_type": "stream",
          "text": [
            "0.029049405545331364\n",
            "0.15782064350027628\n",
            "-0.1287712379549449\n",
            "0.029049405545331364\n"
          ],
          "name": "stdout"
        }
      ]
    },
    {
      "cell_type": "markdown",
      "metadata": {
        "id": "K-Rmq-sE_zTt"
      },
      "source": [
        "## Positivity Property \n",
        "\n",
        "D ($p_{x}$ || $p_{y}$) ≥ 0, ∀ $p_{x}$, $p_{y}$, and D ($p_{x}$ || $p_{y}$) = 0 if and only if $p_{x}$ ≡ $p_{y}$"
      ]
    },
    {
      "cell_type": "markdown",
      "metadata": {
        "id": "-TAmc-aqAXee"
      },
      "source": [
        "Binary Example"
      ]
    },
    {
      "cell_type": "code",
      "metadata": {
        "colab": {
          "base_uri": "https://localhost:8080/"
        },
        "id": "HJYCvSxPAb5B",
        "outputId": "20968bab-66db-413b-d382-6980169109bc"
      },
      "source": [
        "bx = [0.5,0.5]\n",
        "by = [0.5,0.5]\n",
        "print(getKLD(bx,by))\n",
        "#0.5*log2(0.5/0.5) + 0.5*log2(0.5/0.5) ~ log (a/a =1) = 0 anyways\n",
        "print(0.5*log2(0.5/0.5))\n",
        "print(0.5*log2(0.5/0.5))\n",
        "print(0.5*log2(0.5/0.5) + 0.5*log2(0.5/0.5))"
      ],
      "execution_count": 161,
      "outputs": [
        {
          "output_type": "stream",
          "text": [
            "0.0\n",
            "0.0\n",
            "0.0\n",
            "0.0\n"
          ],
          "name": "stdout"
        }
      ]
    },
    {
      "cell_type": "markdown",
      "metadata": {
        "id": "O67WCZC2AuAd"
      },
      "source": [
        "## Asymmetry Property\n",
        "\n",
        "D ($p_{x}$ || $p_{y}$) ≠ D ($p_{y}$ || $p_{x}$)\n",
        "\n",
        "unless $p_{x}$ ≡ $p_{y}$"
      ]
    },
    {
      "cell_type": "code",
      "metadata": {
        "colab": {
          "base_uri": "https://localhost:8080/"
        },
        "id": "CRzJnYreBJq4",
        "outputId": "b13744f5-4455-43bd-9f5d-366c94c3e756"
      },
      "source": [
        "print(\"D ( 𝑝𝑥 || 𝑝𝑦 ) = \", getKLD(x,y))\n",
        "print(\"D ( 𝑝y || 𝑝x ) = \", getKLD(y,x))"
      ],
      "execution_count": 163,
      "outputs": [
        {
          "output_type": "stream",
          "text": [
            "D ( 𝑝𝑥 || 𝑝𝑦 ) =  0.7449969033206721\n",
            "D ( 𝑝y || 𝑝x ) =  0.7602130476807758\n"
          ],
          "name": "stdout"
        }
      ]
    },
    {
      "cell_type": "markdown",
      "metadata": {
        "id": "Ma1Y_z-zBdhb"
      },
      "source": [
        "## Relation with Entropy\n",
        "\n",
        "If x, y are discrete and y ∼ U($A_{x}$), \n",
        "\n",
        "D ($p_{x}$ || $p_{y}$) = H(y) − H(x)."
      ]
    },
    {
      "cell_type": "code",
      "metadata": {
        "colab": {
          "base_uri": "https://localhost:8080/"
        },
        "id": "vnK4rvYjNoRI",
        "outputId": "4cd5ded9-9063-435e-a53e-2f4d3226cc18"
      },
      "source": [
        "z = [1/n for i in range(n)]\n",
        "print(\"KLD(px,pz) = {} where z ∼ U( 𝐴𝑥 )\".format(getKLD(x,z)))\n",
        "print(\"H(z) − H(x) = \", getEntropy(z) - getEntropy(x))\n"
      ],
      "execution_count": 173,
      "outputs": [
        {
          "output_type": "stream",
          "text": [
            "KLD(px,pz) = 0.2884191044977207 where z ∼ U( 𝐴𝑥 )\n",
            "H(z) − H(x) =  0.28841910449764896\n"
          ],
          "name": "stdout"
        }
      ]
    },
    {
      "cell_type": "markdown",
      "metadata": {
        "id": "h4P5L-3jPLm0"
      },
      "source": [
        "## Relation with Cross Entropy\n",
        "\n",
        "If x, y are discrete, \n",
        "\n",
        "D ($p_{x}$ || $p_{y}$) = H($p_{x}$ ; $p_{y}$) - H(x)."
      ]
    },
    {
      "cell_type": "code",
      "metadata": {
        "colab": {
          "base_uri": "https://localhost:8080/"
        },
        "id": "GJrn6IO3PlGV",
        "outputId": "5fb92403-f9a2-4222-ec90-34e0594f2865"
      },
      "source": [
        "print(\"KLD(px,py)\",getKLD(x,y))\n",
        "print(\"(Cross Entropy = {}) - (Entropy of x ={}) = {}\".format(\n",
        "    getCrossEntropy(x,y),\n",
        "    getEntropy(x),\n",
        "    (getCrossEntropy(x,y) - getEntropy(x))))\n"
      ],
      "execution_count": 174,
      "outputs": [
        {
          "output_type": "stream",
          "text": [
            "KLD(px,py) 0.7449969033206721\n",
            "(Cross Entropy = 10.42236208348505) - (Entropy of x =9.677365180164369) = 0.7449969033206809\n"
          ],
          "name": "stdout"
        }
      ]
    },
    {
      "cell_type": "markdown",
      "metadata": {
        "id": "mz0-gLmVReli"
      },
      "source": [
        "## Relation with Mutual Information"
      ]
    },
    {
      "cell_type": "markdown",
      "metadata": {
        "id": "XiuXyXPHS4CO"
      },
      "source": [
        "# Create Data"
      ]
    },
    {
      "cell_type": "code",
      "metadata": {
        "id": "gYz5nTTzgVQh"
      },
      "source": [
        "import random \n",
        "\n",
        "K = 4\n",
        "#works only for 7,4\n",
        "\n",
        "def encode(s):\n",
        "    # Read in K=4 bits at a time and write out those plus parity bits\n",
        "    while len(s) >= K:\n",
        "        nibble = s[0:K]\n",
        "        #print(hamming(nibble))\n",
        "        s = s[K:]\n",
        "    return hamming(nibble)\n",
        "\n",
        "def hamming(bits):\n",
        "    # Return given 4 bits plus parity bits for bits (1,2,3), (2,3,4) and (1,3,4)\n",
        "    t1 = parity(bits, [0,1,3])\n",
        "    t2 = parity(bits, [0,2,3])\n",
        "    t3 = parity(bits, [1,2,3])\n",
        "    return bits + t1 + t2 + t3  #again saying, works only for 7,4\n",
        "\n",
        "def parity(s, indicies):\n",
        "    # Compute the parity bit for the given string s and indicies\n",
        "    sub = \"\"\n",
        "    for i in indicies:\n",
        "        sub += s[i]\n",
        "    return str(str.count(sub, \"1\") % 2)"
      ],
      "execution_count": 216,
      "outputs": []
    },
    {
      "cell_type": "code",
      "metadata": {
        "id": "xNyoXXkbhPjS"
      },
      "source": [
        "def generateAllBinaryStrings(n):\n",
        "    i = 0\n",
        "    a = []\n",
        "    while(i<2**n):\n",
        "      a.append(bin(i)[2:].zfill(n))\n",
        "      i+=1\n",
        "    return a\n",
        "    "
      ],
      "execution_count": 238,
      "outputs": []
    },
    {
      "cell_type": "code",
      "metadata": {
        "id": "Rb9k7VyzS8Ml"
      },
      "source": [
        "n_bits = 4\n",
        "msg_space = generateAllBinaryStrings(n_bits)\n",
        "ciphers =[]\n",
        "\n",
        "for i in msg_space:\n",
        "  h = encode(i)\n",
        "  k = ''\n",
        "  for j in range(0, len(h)):      #calculate binary complement\n",
        "        if(h[j]=='0'):\n",
        "            k = k + '1'\n",
        "        if(h[j]=='1'):\n",
        "            k = k + '0'\n",
        "  rn = random.randint(0, 1)      #random value equal to 0 or 1\n",
        "  cipher = ''\n",
        "  if(rn == 0):         #set x equal to encoded text or its complement with probability 50%\n",
        "      cipher = h\n",
        "  else:\n",
        "      cipher = k\n",
        "  ciphers.append(cipher)"
      ],
      "execution_count": 246,
      "outputs": []
    },
    {
      "cell_type": "code",
      "metadata": {
        "colab": {
          "base_uri": "https://localhost:8080/",
          "height": 550
        },
        "id": "cT5ogZWzkV1r",
        "outputId": "4e946027-2893-499a-979c-768e813c33d9"
      },
      "source": [
        "data_set = {\"u\":msg_space, \"x\":ciphers}\n",
        "df = pd.DataFrame(data_set)\n",
        "df"
      ],
      "execution_count": 247,
      "outputs": [
        {
          "output_type": "execute_result",
          "data": {
            "text/html": [
              "<div>\n",
              "<style scoped>\n",
              "    .dataframe tbody tr th:only-of-type {\n",
              "        vertical-align: middle;\n",
              "    }\n",
              "\n",
              "    .dataframe tbody tr th {\n",
              "        vertical-align: top;\n",
              "    }\n",
              "\n",
              "    .dataframe thead th {\n",
              "        text-align: right;\n",
              "    }\n",
              "</style>\n",
              "<table border=\"1\" class=\"dataframe\">\n",
              "  <thead>\n",
              "    <tr style=\"text-align: right;\">\n",
              "      <th></th>\n",
              "      <th>u</th>\n",
              "      <th>x</th>\n",
              "    </tr>\n",
              "  </thead>\n",
              "  <tbody>\n",
              "    <tr>\n",
              "      <th>0</th>\n",
              "      <td>0000</td>\n",
              "      <td>1111111</td>\n",
              "    </tr>\n",
              "    <tr>\n",
              "      <th>1</th>\n",
              "      <td>0001</td>\n",
              "      <td>1110000</td>\n",
              "    </tr>\n",
              "    <tr>\n",
              "      <th>2</th>\n",
              "      <td>0010</td>\n",
              "      <td>0010011</td>\n",
              "    </tr>\n",
              "    <tr>\n",
              "      <th>3</th>\n",
              "      <td>0011</td>\n",
              "      <td>0011100</td>\n",
              "    </tr>\n",
              "    <tr>\n",
              "      <th>4</th>\n",
              "      <td>0100</td>\n",
              "      <td>0100101</td>\n",
              "    </tr>\n",
              "    <tr>\n",
              "      <th>5</th>\n",
              "      <td>0101</td>\n",
              "      <td>1010101</td>\n",
              "    </tr>\n",
              "    <tr>\n",
              "      <th>6</th>\n",
              "      <td>0110</td>\n",
              "      <td>1001001</td>\n",
              "    </tr>\n",
              "    <tr>\n",
              "      <th>7</th>\n",
              "      <td>0111</td>\n",
              "      <td>1000110</td>\n",
              "    </tr>\n",
              "    <tr>\n",
              "      <th>8</th>\n",
              "      <td>1000</td>\n",
              "      <td>0111001</td>\n",
              "    </tr>\n",
              "    <tr>\n",
              "      <th>9</th>\n",
              "      <td>1001</td>\n",
              "      <td>1001001</td>\n",
              "    </tr>\n",
              "    <tr>\n",
              "      <th>10</th>\n",
              "      <td>1010</td>\n",
              "      <td>1010101</td>\n",
              "    </tr>\n",
              "    <tr>\n",
              "      <th>11</th>\n",
              "      <td>1011</td>\n",
              "      <td>0100101</td>\n",
              "    </tr>\n",
              "    <tr>\n",
              "      <th>12</th>\n",
              "      <td>1100</td>\n",
              "      <td>0011100</td>\n",
              "    </tr>\n",
              "    <tr>\n",
              "      <th>13</th>\n",
              "      <td>1101</td>\n",
              "      <td>1101100</td>\n",
              "    </tr>\n",
              "    <tr>\n",
              "      <th>14</th>\n",
              "      <td>1110</td>\n",
              "      <td>1110000</td>\n",
              "    </tr>\n",
              "    <tr>\n",
              "      <th>15</th>\n",
              "      <td>1111</td>\n",
              "      <td>0000000</td>\n",
              "    </tr>\n",
              "  </tbody>\n",
              "</table>\n",
              "</div>"
            ],
            "text/plain": [
              "       u        x\n",
              "0   0000  1111111\n",
              "1   0001  1110000\n",
              "2   0010  0010011\n",
              "3   0011  0011100\n",
              "4   0100  0100101\n",
              "5   0101  1010101\n",
              "6   0110  1001001\n",
              "7   0111  1000110\n",
              "8   1000  0111001\n",
              "9   1001  1001001\n",
              "10  1010  1010101\n",
              "11  1011  0100101\n",
              "12  1100  0011100\n",
              "13  1101  1101100\n",
              "14  1110  1110000\n",
              "15  1111  0000000"
            ]
          },
          "metadata": {
            "tags": []
          },
          "execution_count": 247
        }
      ]
    },
    {
      "cell_type": "code",
      "metadata": {
        "colab": {
          "base_uri": "https://localhost:8080/"
        },
        "id": "Gbzv8FyPouBK",
        "outputId": "9f912438-8ccd-4589-bf21-a00b9a0ae18c"
      },
      "source": [
        "#p_u = (1/len(df))*[1]\n",
        "df[\"p_u\"] = 1/len(df) #uniform distribution\n",
        "x_dict = dict()\n",
        "for i in range(len(df)):\n",
        "  if df.x.iloc[i] in x_dict:\n",
        "    x_dict[df.x.iloc[i]] +=1/len(df)\n",
        "  else:\n",
        "    x_dict[df.x.iloc[i]] =1/len(df)\n",
        "x_dict"
      ],
      "execution_count": 259,
      "outputs": [
        {
          "output_type": "execute_result",
          "data": {
            "text/plain": [
              "{'0000000': 0.0625,\n",
              " '0010011': 0.0625,\n",
              " '0011100': 0.125,\n",
              " '0100101': 0.125,\n",
              " '0111001': 0.0625,\n",
              " '1000110': 0.0625,\n",
              " '1001001': 0.125,\n",
              " '1010101': 0.125,\n",
              " '1101100': 0.0625,\n",
              " '1110000': 0.125,\n",
              " '1111111': 0.0625}"
            ]
          },
          "metadata": {
            "tags": []
          },
          "execution_count": 259
        }
      ]
    },
    {
      "cell_type": "code",
      "metadata": {
        "colab": {
          "base_uri": "https://localhost:8080/",
          "height": 550
        },
        "id": "uurQuG11rOXp",
        "outputId": "639b8d84-237b-4a5a-c0fc-a7e793cf4c82"
      },
      "source": [
        "p_x = []\n",
        "for i in range(len(df)):\n",
        "  p_x.append(x_dict[df.x.iloc[i]])\n",
        "df[\"p_x\"] = p_x\n",
        "df"
      ],
      "execution_count": 261,
      "outputs": [
        {
          "output_type": "execute_result",
          "data": {
            "text/html": [
              "<div>\n",
              "<style scoped>\n",
              "    .dataframe tbody tr th:only-of-type {\n",
              "        vertical-align: middle;\n",
              "    }\n",
              "\n",
              "    .dataframe tbody tr th {\n",
              "        vertical-align: top;\n",
              "    }\n",
              "\n",
              "    .dataframe thead th {\n",
              "        text-align: right;\n",
              "    }\n",
              "</style>\n",
              "<table border=\"1\" class=\"dataframe\">\n",
              "  <thead>\n",
              "    <tr style=\"text-align: right;\">\n",
              "      <th></th>\n",
              "      <th>u</th>\n",
              "      <th>x</th>\n",
              "      <th>p_u</th>\n",
              "      <th>p_x</th>\n",
              "    </tr>\n",
              "  </thead>\n",
              "  <tbody>\n",
              "    <tr>\n",
              "      <th>0</th>\n",
              "      <td>0000</td>\n",
              "      <td>1111111</td>\n",
              "      <td>0.0625</td>\n",
              "      <td>0.0625</td>\n",
              "    </tr>\n",
              "    <tr>\n",
              "      <th>1</th>\n",
              "      <td>0001</td>\n",
              "      <td>1110000</td>\n",
              "      <td>0.0625</td>\n",
              "      <td>0.1250</td>\n",
              "    </tr>\n",
              "    <tr>\n",
              "      <th>2</th>\n",
              "      <td>0010</td>\n",
              "      <td>0010011</td>\n",
              "      <td>0.0625</td>\n",
              "      <td>0.0625</td>\n",
              "    </tr>\n",
              "    <tr>\n",
              "      <th>3</th>\n",
              "      <td>0011</td>\n",
              "      <td>0011100</td>\n",
              "      <td>0.0625</td>\n",
              "      <td>0.1250</td>\n",
              "    </tr>\n",
              "    <tr>\n",
              "      <th>4</th>\n",
              "      <td>0100</td>\n",
              "      <td>0100101</td>\n",
              "      <td>0.0625</td>\n",
              "      <td>0.1250</td>\n",
              "    </tr>\n",
              "    <tr>\n",
              "      <th>5</th>\n",
              "      <td>0101</td>\n",
              "      <td>1010101</td>\n",
              "      <td>0.0625</td>\n",
              "      <td>0.1250</td>\n",
              "    </tr>\n",
              "    <tr>\n",
              "      <th>6</th>\n",
              "      <td>0110</td>\n",
              "      <td>1001001</td>\n",
              "      <td>0.0625</td>\n",
              "      <td>0.1250</td>\n",
              "    </tr>\n",
              "    <tr>\n",
              "      <th>7</th>\n",
              "      <td>0111</td>\n",
              "      <td>1000110</td>\n",
              "      <td>0.0625</td>\n",
              "      <td>0.0625</td>\n",
              "    </tr>\n",
              "    <tr>\n",
              "      <th>8</th>\n",
              "      <td>1000</td>\n",
              "      <td>0111001</td>\n",
              "      <td>0.0625</td>\n",
              "      <td>0.0625</td>\n",
              "    </tr>\n",
              "    <tr>\n",
              "      <th>9</th>\n",
              "      <td>1001</td>\n",
              "      <td>1001001</td>\n",
              "      <td>0.0625</td>\n",
              "      <td>0.1250</td>\n",
              "    </tr>\n",
              "    <tr>\n",
              "      <th>10</th>\n",
              "      <td>1010</td>\n",
              "      <td>1010101</td>\n",
              "      <td>0.0625</td>\n",
              "      <td>0.1250</td>\n",
              "    </tr>\n",
              "    <tr>\n",
              "      <th>11</th>\n",
              "      <td>1011</td>\n",
              "      <td>0100101</td>\n",
              "      <td>0.0625</td>\n",
              "      <td>0.1250</td>\n",
              "    </tr>\n",
              "    <tr>\n",
              "      <th>12</th>\n",
              "      <td>1100</td>\n",
              "      <td>0011100</td>\n",
              "      <td>0.0625</td>\n",
              "      <td>0.1250</td>\n",
              "    </tr>\n",
              "    <tr>\n",
              "      <th>13</th>\n",
              "      <td>1101</td>\n",
              "      <td>1101100</td>\n",
              "      <td>0.0625</td>\n",
              "      <td>0.0625</td>\n",
              "    </tr>\n",
              "    <tr>\n",
              "      <th>14</th>\n",
              "      <td>1110</td>\n",
              "      <td>1110000</td>\n",
              "      <td>0.0625</td>\n",
              "      <td>0.1250</td>\n",
              "    </tr>\n",
              "    <tr>\n",
              "      <th>15</th>\n",
              "      <td>1111</td>\n",
              "      <td>0000000</td>\n",
              "      <td>0.0625</td>\n",
              "      <td>0.0625</td>\n",
              "    </tr>\n",
              "  </tbody>\n",
              "</table>\n",
              "</div>"
            ],
            "text/plain": [
              "       u        x     p_u     p_x\n",
              "0   0000  1111111  0.0625  0.0625\n",
              "1   0001  1110000  0.0625  0.1250\n",
              "2   0010  0010011  0.0625  0.0625\n",
              "3   0011  0011100  0.0625  0.1250\n",
              "4   0100  0100101  0.0625  0.1250\n",
              "5   0101  1010101  0.0625  0.1250\n",
              "6   0110  1001001  0.0625  0.1250\n",
              "7   0111  1000110  0.0625  0.0625\n",
              "8   1000  0111001  0.0625  0.0625\n",
              "9   1001  1001001  0.0625  0.1250\n",
              "10  1010  1010101  0.0625  0.1250\n",
              "11  1011  0100101  0.0625  0.1250\n",
              "12  1100  0011100  0.0625  0.1250\n",
              "13  1101  1101100  0.0625  0.0625\n",
              "14  1110  1110000  0.0625  0.1250\n",
              "15  1111  0000000  0.0625  0.0625"
            ]
          },
          "metadata": {
            "tags": []
          },
          "execution_count": 261
        }
      ]
    },
    {
      "cell_type": "code",
      "metadata": {
        "colab": {
          "base_uri": "https://localhost:8080/",
          "height": 828
        },
        "id": "l_8oO0_hr2pL",
        "outputId": "63d90f7e-4def-4918-e3d9-4c04db16f985"
      },
      "source": [
        "p_cond = [] \n",
        "p_joint = []\n",
        "i_u = []\n",
        "i_x = []\n",
        "i_cond = []\n",
        "i_joint = []\n",
        "h_u = []\n",
        "h_x = []\n",
        "h_joint = []\n",
        "h_cond = []\n",
        "h_cross = []\n",
        "kld_xy = []\n",
        "for i in range(len(df)):\n",
        "  p_cond.append(getConditionalProbability(df.p_u.iloc[i],df.p_x.iloc[i]))\n",
        "  p_joint.append(getJointProbability(df.p_u.iloc[i],df.p_x.iloc[i]))\n",
        "  i_u.append(getInformation(df.p_u.iloc[i]))\n",
        "  i_x.append(getInformation(df.p_x.iloc[i]))\n",
        "  i_cond.append(getConditionalInformation(df.p_u.iloc[i],df.p_x.iloc[i]))\n",
        "  i_joint.append(getJointInformation(df.p_u.iloc[i],df.p_x.iloc[i]))\n",
        "\n",
        "\n",
        "df[\"p_cond\"] = p_cond\n",
        "df[\"p_joint\"] = p_joint\n",
        "df[\"i_u\"] = i_u\n",
        "df[\"i_x\"] = i_x\n",
        "df[\"i_cond\"] = i_cond\n",
        "df[\"i_joint\"] = i_joint\n",
        "df"
      ],
      "execution_count": 267,
      "outputs": [
        {
          "output_type": "stream",
          "text": [
            "0.0625\n",
            "0.0625\n",
            "0.0625\n",
            "0.0625\n",
            "0.0625\n",
            "0.0625\n",
            "0.0625\n",
            "0.0625\n",
            "0.0625\n",
            "0.0625\n",
            "0.0625\n",
            "0.0625\n",
            "0.0625\n",
            "0.0625\n",
            "0.0625\n",
            "0.0625\n"
          ],
          "name": "stdout"
        },
        {
          "output_type": "execute_result",
          "data": {
            "text/html": [
              "<div>\n",
              "<style scoped>\n",
              "    .dataframe tbody tr th:only-of-type {\n",
              "        vertical-align: middle;\n",
              "    }\n",
              "\n",
              "    .dataframe tbody tr th {\n",
              "        vertical-align: top;\n",
              "    }\n",
              "\n",
              "    .dataframe thead th {\n",
              "        text-align: right;\n",
              "    }\n",
              "</style>\n",
              "<table border=\"1\" class=\"dataframe\">\n",
              "  <thead>\n",
              "    <tr style=\"text-align: right;\">\n",
              "      <th></th>\n",
              "      <th>u</th>\n",
              "      <th>x</th>\n",
              "      <th>p_u</th>\n",
              "      <th>p_x</th>\n",
              "      <th>p_cond</th>\n",
              "      <th>p_joint</th>\n",
              "      <th>i_u</th>\n",
              "      <th>i_x</th>\n",
              "      <th>i_cond</th>\n",
              "      <th>i_joint</th>\n",
              "    </tr>\n",
              "  </thead>\n",
              "  <tbody>\n",
              "    <tr>\n",
              "      <th>0</th>\n",
              "      <td>0000</td>\n",
              "      <td>1111111</td>\n",
              "      <td>0.0625</td>\n",
              "      <td>0.0625</td>\n",
              "      <td>0.0625</td>\n",
              "      <td>0.003906</td>\n",
              "      <td>4.0</td>\n",
              "      <td>4.0</td>\n",
              "      <td>4.0</td>\n",
              "      <td>0.0</td>\n",
              "    </tr>\n",
              "    <tr>\n",
              "      <th>1</th>\n",
              "      <td>0001</td>\n",
              "      <td>1110000</td>\n",
              "      <td>0.0625</td>\n",
              "      <td>0.1250</td>\n",
              "      <td>0.0625</td>\n",
              "      <td>0.007812</td>\n",
              "      <td>4.0</td>\n",
              "      <td>3.0</td>\n",
              "      <td>4.0</td>\n",
              "      <td>1.0</td>\n",
              "    </tr>\n",
              "    <tr>\n",
              "      <th>2</th>\n",
              "      <td>0010</td>\n",
              "      <td>0010011</td>\n",
              "      <td>0.0625</td>\n",
              "      <td>0.0625</td>\n",
              "      <td>0.0625</td>\n",
              "      <td>0.003906</td>\n",
              "      <td>4.0</td>\n",
              "      <td>4.0</td>\n",
              "      <td>4.0</td>\n",
              "      <td>0.0</td>\n",
              "    </tr>\n",
              "    <tr>\n",
              "      <th>3</th>\n",
              "      <td>0011</td>\n",
              "      <td>0011100</td>\n",
              "      <td>0.0625</td>\n",
              "      <td>0.1250</td>\n",
              "      <td>0.0625</td>\n",
              "      <td>0.007812</td>\n",
              "      <td>4.0</td>\n",
              "      <td>3.0</td>\n",
              "      <td>4.0</td>\n",
              "      <td>1.0</td>\n",
              "    </tr>\n",
              "    <tr>\n",
              "      <th>4</th>\n",
              "      <td>0100</td>\n",
              "      <td>0100101</td>\n",
              "      <td>0.0625</td>\n",
              "      <td>0.1250</td>\n",
              "      <td>0.0625</td>\n",
              "      <td>0.007812</td>\n",
              "      <td>4.0</td>\n",
              "      <td>3.0</td>\n",
              "      <td>4.0</td>\n",
              "      <td>1.0</td>\n",
              "    </tr>\n",
              "    <tr>\n",
              "      <th>5</th>\n",
              "      <td>0101</td>\n",
              "      <td>1010101</td>\n",
              "      <td>0.0625</td>\n",
              "      <td>0.1250</td>\n",
              "      <td>0.0625</td>\n",
              "      <td>0.007812</td>\n",
              "      <td>4.0</td>\n",
              "      <td>3.0</td>\n",
              "      <td>4.0</td>\n",
              "      <td>1.0</td>\n",
              "    </tr>\n",
              "    <tr>\n",
              "      <th>6</th>\n",
              "      <td>0110</td>\n",
              "      <td>1001001</td>\n",
              "      <td>0.0625</td>\n",
              "      <td>0.1250</td>\n",
              "      <td>0.0625</td>\n",
              "      <td>0.007812</td>\n",
              "      <td>4.0</td>\n",
              "      <td>3.0</td>\n",
              "      <td>4.0</td>\n",
              "      <td>1.0</td>\n",
              "    </tr>\n",
              "    <tr>\n",
              "      <th>7</th>\n",
              "      <td>0111</td>\n",
              "      <td>1000110</td>\n",
              "      <td>0.0625</td>\n",
              "      <td>0.0625</td>\n",
              "      <td>0.0625</td>\n",
              "      <td>0.003906</td>\n",
              "      <td>4.0</td>\n",
              "      <td>4.0</td>\n",
              "      <td>4.0</td>\n",
              "      <td>0.0</td>\n",
              "    </tr>\n",
              "    <tr>\n",
              "      <th>8</th>\n",
              "      <td>1000</td>\n",
              "      <td>0111001</td>\n",
              "      <td>0.0625</td>\n",
              "      <td>0.0625</td>\n",
              "      <td>0.0625</td>\n",
              "      <td>0.003906</td>\n",
              "      <td>4.0</td>\n",
              "      <td>4.0</td>\n",
              "      <td>4.0</td>\n",
              "      <td>0.0</td>\n",
              "    </tr>\n",
              "    <tr>\n",
              "      <th>9</th>\n",
              "      <td>1001</td>\n",
              "      <td>1001001</td>\n",
              "      <td>0.0625</td>\n",
              "      <td>0.1250</td>\n",
              "      <td>0.0625</td>\n",
              "      <td>0.007812</td>\n",
              "      <td>4.0</td>\n",
              "      <td>3.0</td>\n",
              "      <td>4.0</td>\n",
              "      <td>1.0</td>\n",
              "    </tr>\n",
              "    <tr>\n",
              "      <th>10</th>\n",
              "      <td>1010</td>\n",
              "      <td>1010101</td>\n",
              "      <td>0.0625</td>\n",
              "      <td>0.1250</td>\n",
              "      <td>0.0625</td>\n",
              "      <td>0.007812</td>\n",
              "      <td>4.0</td>\n",
              "      <td>3.0</td>\n",
              "      <td>4.0</td>\n",
              "      <td>1.0</td>\n",
              "    </tr>\n",
              "    <tr>\n",
              "      <th>11</th>\n",
              "      <td>1011</td>\n",
              "      <td>0100101</td>\n",
              "      <td>0.0625</td>\n",
              "      <td>0.1250</td>\n",
              "      <td>0.0625</td>\n",
              "      <td>0.007812</td>\n",
              "      <td>4.0</td>\n",
              "      <td>3.0</td>\n",
              "      <td>4.0</td>\n",
              "      <td>1.0</td>\n",
              "    </tr>\n",
              "    <tr>\n",
              "      <th>12</th>\n",
              "      <td>1100</td>\n",
              "      <td>0011100</td>\n",
              "      <td>0.0625</td>\n",
              "      <td>0.1250</td>\n",
              "      <td>0.0625</td>\n",
              "      <td>0.007812</td>\n",
              "      <td>4.0</td>\n",
              "      <td>3.0</td>\n",
              "      <td>4.0</td>\n",
              "      <td>1.0</td>\n",
              "    </tr>\n",
              "    <tr>\n",
              "      <th>13</th>\n",
              "      <td>1101</td>\n",
              "      <td>1101100</td>\n",
              "      <td>0.0625</td>\n",
              "      <td>0.0625</td>\n",
              "      <td>0.0625</td>\n",
              "      <td>0.003906</td>\n",
              "      <td>4.0</td>\n",
              "      <td>4.0</td>\n",
              "      <td>4.0</td>\n",
              "      <td>0.0</td>\n",
              "    </tr>\n",
              "    <tr>\n",
              "      <th>14</th>\n",
              "      <td>1110</td>\n",
              "      <td>1110000</td>\n",
              "      <td>0.0625</td>\n",
              "      <td>0.1250</td>\n",
              "      <td>0.0625</td>\n",
              "      <td>0.007812</td>\n",
              "      <td>4.0</td>\n",
              "      <td>3.0</td>\n",
              "      <td>4.0</td>\n",
              "      <td>1.0</td>\n",
              "    </tr>\n",
              "    <tr>\n",
              "      <th>15</th>\n",
              "      <td>1111</td>\n",
              "      <td>0000000</td>\n",
              "      <td>0.0625</td>\n",
              "      <td>0.0625</td>\n",
              "      <td>0.0625</td>\n",
              "      <td>0.003906</td>\n",
              "      <td>4.0</td>\n",
              "      <td>4.0</td>\n",
              "      <td>4.0</td>\n",
              "      <td>0.0</td>\n",
              "    </tr>\n",
              "  </tbody>\n",
              "</table>\n",
              "</div>"
            ],
            "text/plain": [
              "       u        x     p_u     p_x  p_cond   p_joint  i_u  i_x  i_cond  i_joint\n",
              "0   0000  1111111  0.0625  0.0625  0.0625  0.003906  4.0  4.0     4.0      0.0\n",
              "1   0001  1110000  0.0625  0.1250  0.0625  0.007812  4.0  3.0     4.0      1.0\n",
              "2   0010  0010011  0.0625  0.0625  0.0625  0.003906  4.0  4.0     4.0      0.0\n",
              "3   0011  0011100  0.0625  0.1250  0.0625  0.007812  4.0  3.0     4.0      1.0\n",
              "4   0100  0100101  0.0625  0.1250  0.0625  0.007812  4.0  3.0     4.0      1.0\n",
              "5   0101  1010101  0.0625  0.1250  0.0625  0.007812  4.0  3.0     4.0      1.0\n",
              "6   0110  1001001  0.0625  0.1250  0.0625  0.007812  4.0  3.0     4.0      1.0\n",
              "7   0111  1000110  0.0625  0.0625  0.0625  0.003906  4.0  4.0     4.0      0.0\n",
              "8   1000  0111001  0.0625  0.0625  0.0625  0.003906  4.0  4.0     4.0      0.0\n",
              "9   1001  1001001  0.0625  0.1250  0.0625  0.007812  4.0  3.0     4.0      1.0\n",
              "10  1010  1010101  0.0625  0.1250  0.0625  0.007812  4.0  3.0     4.0      1.0\n",
              "11  1011  0100101  0.0625  0.1250  0.0625  0.007812  4.0  3.0     4.0      1.0\n",
              "12  1100  0011100  0.0625  0.1250  0.0625  0.007812  4.0  3.0     4.0      1.0\n",
              "13  1101  1101100  0.0625  0.0625  0.0625  0.003906  4.0  4.0     4.0      0.0\n",
              "14  1110  1110000  0.0625  0.1250  0.0625  0.007812  4.0  3.0     4.0      1.0\n",
              "15  1111  0000000  0.0625  0.0625  0.0625  0.003906  4.0  4.0     4.0      0.0"
            ]
          },
          "metadata": {
            "tags": []
          },
          "execution_count": 267
        }
      ]
    }
  ]
}